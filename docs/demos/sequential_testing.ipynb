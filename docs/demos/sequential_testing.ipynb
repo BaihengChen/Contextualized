{
 "cells": [
  {
   "cell_type": "markdown",
   "metadata": {},
   "source": [
    "# Sequential Testing of Contexts\n",
    "This notebook will provide a quick demonstration on how to use the sequential testing function and interpret the results. This is useful because we can find which features are the most context dependent, as well as which contexts are most important.\n",
    "\n",
    "We do this by iterating through each context, predictor, and target combination to see if context matters for that feature. We determine this by calculating the p-values for the effects of context."
   ]
  },
  {
   "cell_type": "code",
   "execution_count": 1,
   "metadata": {},
   "outputs": [],
   "source": [
    "import numpy as np\n",
    "import pandas as pd\n",
    "from contextualized.analysis.pvals import test_sequential_contexts\n",
    "from contextualized.easy import ContextualizedRegressor\n",
    "from sklearn.model_selection import train_test_split\n",
    "from sklearn.datasets import load_diabetes\n",
    "\n",
    "import logging\n",
    "logging.getLogger(\"pytorch_lightning\").setLevel(logging.ERROR)"
   ]
  },
  {
   "cell_type": "markdown",
   "metadata": {},
   "source": [
    "## Gather Data for Training"
   ]
  },
  {
   "cell_type": "code",
   "execution_count": 5,
   "metadata": {},
   "outputs": [],
   "source": [
    "n_samples = 1000\n",
    "n_outcomes = 1\n",
    "n_context = 2\n",
    "n_observed = 2\n",
    "\n",
    "C = np.random.uniform(-1, 1, size=(n_samples, n_context))\n",
    "C = pd.DataFrame(C, columns=[f'context_{i}' for i in range(n_context)])\n",
    "\n",
    "X_coefficient = 0.5\n",
    "X_intercept = 0.2\n",
    "X = np.random.uniform(-1, 1, size=(n_samples, n_observed))\n",
    "X = pd.DataFrame(X, columns=[f'observed_{i}' for i in range(n_observed)])\n",
    "\n",
    "# phi = np.random.uniform(-1, 1, size=(n_context, n_observed, n_outcomes)) # making a 3D tensor\n",
    "phi = np.arange(n_context * n_observed * n_outcomes).reshape(n_context, n_observed, n_outcomes)\n",
    "beta = np.tensordot(C, phi, axes=1) + np.random.normal(0, 0.01, size=(n_samples, n_observed, n_outcomes))\n",
    "Y = np.array([np.tensordot(X[i], beta[i], axes=1) for i in range(n_samples)])"
   ]
  },
  {
   "cell_type": "code",
   "execution_count": 6,
   "metadata": {},
   "outputs": [],
   "source": [
    "# converting to pandas dataframe\n",
    "C_train_df = pd.DataFrame(C)\n",
    "X_train_df = pd.DataFrame(X)\n",
    "Y_train_df = pd.DataFrame(Y)"
   ]
  },
  {
   "cell_type": "markdown",
   "metadata": {},
   "source": [
    "## Using the sequential testing function with a ContextualizedRegressor"
   ]
  },
  {
   "cell_type": "code",
   "execution_count": 7,
   "metadata": {},
   "outputs": [],
   "source": [
    "%%capture\n",
    "pvals = test_sequential_contexts(ContextualizedRegressor, C_train_df, X_train_df, Y_train_df, encoder_type=\"mlp\", max_epochs=3, learning_rate=1e-2, n_bootstraps=10)"
   ]
  },
  {
   "cell_type": "markdown",
   "metadata": {},
   "source": [
    "## Analyzing results"
   ]
  },
  {
   "cell_type": "markdown",
   "metadata": {},
   "source": [
    "Below, the displayed p-values are found from the sequential testing of context features on predictor variables for a given target variable. These p-values are calculated based on the consistency of the sign of effects across multiple bootstraps. A p-value close to 0 suggests a strong consistency and significance in the effect, indicating whether the relationship is consistently positive or negative. This analysis enables us to quantify the uncertainty associated with the bootstrap confidence intervals."
   ]
  },
  {
   "cell_type": "code",
   "execution_count": 8,
   "metadata": {},
   "outputs": [
    {
     "data": {
      "text/html": [
       "<div>\n",
       "<style scoped>\n",
       "    .dataframe tbody tr th:only-of-type {\n",
       "        vertical-align: middle;\n",
       "    }\n",
       "\n",
       "    .dataframe tbody tr th {\n",
       "        vertical-align: top;\n",
       "    }\n",
       "\n",
       "    .dataframe thead th {\n",
       "        text-align: right;\n",
       "    }\n",
       "</style>\n",
       "<table border=\"1\" class=\"dataframe\">\n",
       "  <thead>\n",
       "    <tr style=\"text-align: right;\">\n",
       "      <th></th>\n",
       "      <th>Context</th>\n",
       "      <th>Predictor</th>\n",
       "      <th>Target</th>\n",
       "      <th>Pvals</th>\n",
       "    </tr>\n",
       "  </thead>\n",
       "  <tbody>\n",
       "    <tr>\n",
       "      <th>0</th>\n",
       "      <td>0</td>\n",
       "      <td>0</td>\n",
       "      <td>0</td>\n",
       "      <td>0.090909</td>\n",
       "    </tr>\n",
       "    <tr>\n",
       "      <th>1</th>\n",
       "      <td>0</td>\n",
       "      <td>1</td>\n",
       "      <td>0</td>\n",
       "      <td>0.181818</td>\n",
       "    </tr>\n",
       "    <tr>\n",
       "      <th>2</th>\n",
       "      <td>1</td>\n",
       "      <td>0</td>\n",
       "      <td>0</td>\n",
       "      <td>0.363636</td>\n",
       "    </tr>\n",
       "    <tr>\n",
       "      <th>3</th>\n",
       "      <td>1</td>\n",
       "      <td>1</td>\n",
       "      <td>0</td>\n",
       "      <td>0.454545</td>\n",
       "    </tr>\n",
       "  </tbody>\n",
       "</table>\n",
       "</div>"
      ],
      "text/plain": [
       "   Context  Predictor  Target     Pvals\n",
       "0        0          0       0  0.090909\n",
       "1        0          1       0  0.181818\n",
       "2        1          0       0  0.363636\n",
       "3        1          1       0  0.454545"
      ]
     },
     "execution_count": 8,
     "metadata": {},
     "output_type": "execute_result"
    }
   ],
   "source": [
    "pvals"
   ]
  },
  {
   "cell_type": "code",
   "execution_count": 10,
   "metadata": {},
   "outputs": [
    {
     "name": "stdout",
     "output_type": "stream",
     "text": [
      "[[[0]\n",
      "  [1]]\n",
      "\n",
      " [[2]\n",
      "  [3]]]\n"
     ]
    }
   ],
   "source": [
    "print(phi[:5])"
   ]
  },
  {
   "cell_type": "code",
   "execution_count": null,
   "metadata": {},
   "outputs": [],
   "source": []
  }
 ],
 "metadata": {
  "kernelspec": {
   "display_name": "Python 3",
   "language": "python",
   "name": "python3"
  },
  "language_info": {
   "codemirror_mode": {
    "name": "ipython",
    "version": 3
   },
   "file_extension": ".py",
   "mimetype": "text/x-python",
   "name": "python",
   "nbconvert_exporter": "python",
   "pygments_lexer": "ipython3",
   "version": "3.10.2"
  }
 },
 "nbformat": 4,
 "nbformat_minor": 2
}
